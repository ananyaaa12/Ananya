{
 "cells": [
  {
   "cell_type": "code",
   "execution_count": null,
   "id": "e75a66df-9e13-4171-92ef-dac188ce291c",
   "metadata": {},
   "outputs": [],
   "source": [
    "import cv2\n",
    "import numpy as np\n",
    "img=cv2.imread(r'C:\\Users\\Ananya\\Downloads\\flowers.jpeg')\n",
    "hsv=cv2.cvtColor(img,cv2.COLOR_BGR2HSV)\n",
    "lower_red1=np.array([0,50,50]) #detects the range of red \n",
    "upper_red1=np.array([10,255,255])\n",
    "lower_red2=np.array([170,50,50])\n",
    "upper_red2=np.array([180,255,255])\n",
    "lower_purple=np.array([100, 150, 150])  #detects the range of purple in hsv space\n",
    "upper_purple=np.array([150, 255, 255])\n",
    "mask_red1=cv2.inRange(hsv,lower_red1,upper_red1)\n",
    "mask_red2=cv2.inRange(hsv,lower_red2,upper_red2)\n",
    "mask_purple=cv2.inRange(hsv,lower_purple,upper_purple) #creates a mask for purple region\n",
    "mask_red=cv2.bitwise_or(mask_red1,mask_red2)\n",
    "mask=cv2.bitwise_or(mask_red,mask_purple) #creates a mask for either red or purple region\n",
    "res=cv2.bitwise_and(img,img,mask=mask)\n",
    "cv2.imshow('image',img)\n",
    "cv2.imshow('mask',mask)\n",
    "cv2.imshow('result',res)\n",
    "cv2.waitKey(0)\n",
    "cv2.destroyAllWindows()"
   ]
  }
 ],
 "metadata": {
  "kernelspec": {
   "display_name": "Python [conda env:base] *",
   "language": "python",
   "name": "conda-base-py"
  },
  "language_info": {
   "codemirror_mode": {
    "name": "ipython",
    "version": 3
   },
   "file_extension": ".py",
   "mimetype": "text/x-python",
   "name": "python",
   "nbconvert_exporter": "python",
   "pygments_lexer": "ipython3",
   "version": "3.12.7"
  }
 },
 "nbformat": 4,
 "nbformat_minor": 5
}
